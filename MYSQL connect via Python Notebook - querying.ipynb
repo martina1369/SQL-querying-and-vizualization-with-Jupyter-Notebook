{
 "cells": [
  {
   "cell_type": "code",
   "execution_count": 1,
   "metadata": {},
   "outputs": [
    {
     "name": "stdout",
     "output_type": "stream",
     "text": [
      "Requirement already satisfied: ipython-sql in c:\\users\\tele\\anaconda3\\lib\\site-packages (0.4.0)\n",
      "Requirement already satisfied: sqlparse in c:\\users\\tele\\anaconda3\\lib\\site-packages (from ipython-sql) (0.3.1)\n",
      "Requirement already satisfied: ipython-genutils>=0.1.0 in c:\\users\\tele\\anaconda3\\lib\\site-packages (from ipython-sql) (0.2.0)\n",
      "Requirement already satisfied: prettytable<1 in c:\\users\\tele\\anaconda3\\lib\\site-packages (from ipython-sql) (0.7.2)\n",
      "Requirement already satisfied: ipython>=1.0 in c:\\users\\tele\\anaconda3\\lib\\site-packages (from ipython-sql) (7.12.0)\n",
      "Requirement already satisfied: six in c:\\users\\tele\\anaconda3\\lib\\site-packages (from ipython-sql) (1.14.0)\n",
      "Requirement already satisfied: sqlalchemy>=0.6.7 in c:\\users\\tele\\anaconda3\\lib\\site-packages (from ipython-sql) (1.3.13)\n",
      "Requirement already satisfied: backcall in c:\\users\\tele\\anaconda3\\lib\\site-packages (from ipython>=1.0->ipython-sql) (0.1.0)\n",
      "Requirement already satisfied: decorator in c:\\users\\tele\\anaconda3\\lib\\site-packages (from ipython>=1.0->ipython-sql) (4.4.1)\n",
      "Requirement already satisfied: pickleshare in c:\\users\\tele\\anaconda3\\lib\\site-packages (from ipython>=1.0->ipython-sql) (0.7.5)\n",
      "Requirement already satisfied: prompt-toolkit!=3.0.0,!=3.0.1,<3.1.0,>=2.0.0 in c:\\users\\tele\\anaconda3\\lib\\site-packages (from ipython>=1.0->ipython-sql) (3.0.3)\n",
      "Requirement already satisfied: colorama; sys_platform == \"win32\" in c:\\users\\tele\\anaconda3\\lib\\site-packages (from ipython>=1.0->ipython-sql) (0.4.3)\n",
      "Requirement already satisfied: jedi>=0.10 in c:\\users\\tele\\anaconda3\\lib\\site-packages (from ipython>=1.0->ipython-sql) (0.14.1)\n",
      "Requirement already satisfied: pygments in c:\\users\\tele\\anaconda3\\lib\\site-packages (from ipython>=1.0->ipython-sql) (2.5.2)\n",
      "Requirement already satisfied: traitlets>=4.2 in c:\\users\\tele\\anaconda3\\lib\\site-packages (from ipython>=1.0->ipython-sql) (4.3.3)\n",
      "Requirement already satisfied: setuptools>=18.5 in c:\\users\\tele\\anaconda3\\lib\\site-packages (from ipython>=1.0->ipython-sql) (45.2.0.post20200210)\n",
      "Requirement already satisfied: wcwidth in c:\\users\\tele\\anaconda3\\lib\\site-packages (from prompt-toolkit!=3.0.0,!=3.0.1,<3.1.0,>=2.0.0->ipython>=1.0->ipython-sql) (0.1.8)\n",
      "Requirement already satisfied: parso>=0.5.0 in c:\\users\\tele\\anaconda3\\lib\\site-packages (from jedi>=0.10->ipython>=1.0->ipython-sql) (0.5.2)\n",
      "Note: you may need to restart the kernel to use updated packages.\n"
     ]
    }
   ],
   "source": [
    "pip install ipython-sql"
   ]
  },
  {
   "cell_type": "code",
   "execution_count": 2,
   "metadata": {},
   "outputs": [],
   "source": [
    "import pyodbc\n",
    "connection = pyodbc.connect('Driver={SQL Server};'\n",
    "                                'Server=DESKTOP-0SB31D9;'\n",
    "                                'Database=AdventureWorks2017;'\n",
    "                                'Trusted_Connection=True;')\n",
    "\n",
    "cursor = connection.cursor() "
   ]
  },
  {
   "cell_type": "code",
   "execution_count": 3,
   "metadata": {},
   "outputs": [],
   "source": [
    "import pandas as pd\n",
    "import pandas.io.sql as psql"
   ]
  },
  {
   "cell_type": "code",
   "execution_count": 4,
   "metadata": {},
   "outputs": [
    {
     "name": "stdout",
     "output_type": "stream",
     "text": [
      "Requirement already satisfied: pysqldf in c:\\users\\tele\\anaconda3\\lib\\site-packages (1.2.3)\n",
      "Requirement already satisfied: pandas in c:\\users\\tele\\anaconda3\\lib\\site-packages (from pysqldf) (1.0.1)\n",
      "Requirement already satisfied: numpy>=1.13.3 in c:\\users\\tele\\anaconda3\\lib\\site-packages (from pandas->pysqldf) (1.18.1)\n",
      "Requirement already satisfied: python-dateutil>=2.6.1 in c:\\users\\tele\\anaconda3\\lib\\site-packages (from pandas->pysqldf) (2.8.1)\n",
      "Requirement already satisfied: pytz>=2017.2 in c:\\users\\tele\\anaconda3\\lib\\site-packages (from pandas->pysqldf) (2019.3)\n",
      "Requirement already satisfied: six>=1.5 in c:\\users\\tele\\anaconda3\\lib\\site-packages (from python-dateutil>=2.6.1->pandas->pysqldf) (1.14.0)\n",
      "Note: you may need to restart the kernel to use updated packages.\n"
     ]
    }
   ],
   "source": [
    "pip install pysqldf"
   ]
  },
  {
   "cell_type": "code",
   "execution_count": 5,
   "metadata": {},
   "outputs": [],
   "source": [
    "import pandas as pd\n",
    "import numpy as np\n",
    "from pandasql import *\n",
    "pysqldf = lambda q: sqldf(q, locals())"
   ]
  },
  {
   "cell_type": "code",
   "execution_count": 8,
   "metadata": {},
   "outputs": [],
   "source": [
    "query = '''SELECT * FROM HumanResources.EmployeeDepartmentHistory'''"
   ]
  },
  {
   "cell_type": "code",
   "execution_count": 9,
   "metadata": {},
   "outputs": [],
   "source": [
    "df = pd.read_sql(query, connection)"
   ]
  },
  {
   "cell_type": "code",
   "execution_count": 10,
   "metadata": {},
   "outputs": [
    {
     "name": "stdout",
     "output_type": "stream",
     "text": [
      "   BusinessEntityID  DepartmentID  ShiftID   StartDate     EndDate  \\\n",
      "0                 1            16        1  2009-01-14        None   \n",
      "1                 2             1        1  2008-01-31        None   \n",
      "2                 3             1        1  2007-11-11        None   \n",
      "3                 4             1        1  2007-12-05  2010-05-30   \n",
      "4                 4             2        1  2010-05-31        None   \n",
      "5                 5             1        1  2008-01-06        None   \n",
      "6                 6             1        1  2008-01-24        None   \n",
      "7                 7             6        1  2009-02-08        None   \n",
      "8                 8             6        1  2008-12-29        None   \n",
      "9                 9             6        1  2009-01-16        None   \n",
      "\n",
      "  ModifiedDate  \n",
      "0   2009-01-13  \n",
      "1   2008-01-30  \n",
      "2   2007-11-10  \n",
      "3   2010-05-28  \n",
      "4   2010-05-30  \n",
      "5   2008-01-05  \n",
      "6   2008-01-23  \n",
      "7   2009-02-07  \n",
      "8   2008-12-28  \n",
      "9   2009-01-15  \n"
     ]
    }
   ],
   "source": [
    "print(df.head(10))"
   ]
  },
  {
   "cell_type": "code",
   "execution_count": 11,
   "metadata": {},
   "outputs": [],
   "source": [
    "query = '''SELECT * FROM HumanResources.Department'''"
   ]
  },
  {
   "cell_type": "code",
   "execution_count": 12,
   "metadata": {},
   "outputs": [],
   "source": [
    "df = pd.read_sql(query, connection)"
   ]
  },
  {
   "cell_type": "code",
   "execution_count": 13,
   "metadata": {},
   "outputs": [
    {
     "name": "stdout",
     "output_type": "stream",
     "text": [
      "   DepartmentID                      Name  \\\n",
      "0             1               Engineering   \n",
      "1             2               Tool Design   \n",
      "2             3                     Sales   \n",
      "3             4                 Marketing   \n",
      "4             5                Purchasing   \n",
      "5             6  Research and Development   \n",
      "6             7                Production   \n",
      "7             8        Production Control   \n",
      "8             9           Human Resources   \n",
      "9            10                   Finance   \n",
      "\n",
      "                              GroupName ModifiedDate  \n",
      "0              Research and Development   2008-04-30  \n",
      "1              Research and Development   2008-04-30  \n",
      "2                   Sales and Marketing   2008-04-30  \n",
      "3                   Sales and Marketing   2008-04-30  \n",
      "4                  Inventory Management   2008-04-30  \n",
      "5              Research and Development   2008-04-30  \n",
      "6                         Manufacturing   2008-04-30  \n",
      "7                         Manufacturing   2008-04-30  \n",
      "8  Executive General and Administration   2008-04-30  \n",
      "9  Executive General and Administration   2008-04-30  \n"
     ]
    }
   ],
   "source": [
    "print(df.head(10))"
   ]
  },
  {
   "cell_type": "code",
   "execution_count": 14,
   "metadata": {},
   "outputs": [],
   "source": [
    "query = '''SELECT * FROM HumanResources.Employee'''"
   ]
  },
  {
   "cell_type": "code",
   "execution_count": 52,
   "metadata": {},
   "outputs": [],
   "source": [
    "df = pd.read_sql(query, connection)"
   ]
  },
  {
   "cell_type": "code",
   "execution_count": 53,
   "metadata": {},
   "outputs": [
    {
     "name": "stdout",
     "output_type": "stream",
     "text": [
      "   BusinessEntityID NationalIDNumber                   LoginID  \\\n",
      "0                 1        295847284      adventure-works\\ken0   \n",
      "1                 2        245797967    adventure-works\\terri0   \n",
      "2                 3        509647174  adventure-works\\roberto0   \n",
      "3                 4        112457891      adventure-works\\rob0   \n",
      "4                 5        695256908     adventure-works\\gail0   \n",
      "5                 6        998320692   adventure-works\\jossef0   \n",
      "6                 7        134969118    adventure-works\\dylan0   \n",
      "7                 8        811994146    adventure-works\\diane1   \n",
      "8                 9        658797903     adventure-works\\gigi0   \n",
      "9                10        879342154  adventure-works\\michael6   \n",
      "\n",
      "  OrganizationNode  OrganizationLevel                           JobTitle  \\\n",
      "0             None                NaN            Chief Executive Officer   \n",
      "1             b'X'                1.0      Vice President of Engineering   \n",
      "2         b'Z\\xc0'                2.0                Engineering Manager   \n",
      "3         b'Z\\xd6'                3.0               Senior Tool Designer   \n",
      "4         b'Z\\xda'                3.0                    Design Engineer   \n",
      "5         b'Z\\xde'                3.0                    Design Engineer   \n",
      "6         b'Z\\xe1'                3.0   Research and Development Manager   \n",
      "7        b'Z\\xe1X'                4.0  Research and Development Engineer   \n",
      "8        b'Z\\xe1h'                4.0  Research and Development Engineer   \n",
      "9        b'Z\\xe1x'                4.0   Research and Development Manager   \n",
      "\n",
      "    BirthDate MaritalStatus Gender    HireDate  SalariedFlag  VacationHours  \\\n",
      "0  1969-01-29             S      M  2009-01-14          True             99   \n",
      "1  1971-08-01             S      F  2008-01-31          True              1   \n",
      "2  1974-11-12             M      M  2007-11-11          True              2   \n",
      "3  1974-12-23             S      M  2007-12-05         False             48   \n",
      "4  1952-09-27             M      F  2008-01-06          True              5   \n",
      "5  1959-03-11             M      M  2008-01-24          True              6   \n",
      "6  1987-02-24             M      M  2009-02-08          True             61   \n",
      "7  1986-06-05             S      F  2008-12-29          True             62   \n",
      "8  1979-01-21             M      F  2009-01-16          True             63   \n",
      "9  1984-11-30             M      M  2009-05-03          True             16   \n",
      "\n",
      "   SickLeaveHours  CurrentFlag                               rowguid  \\\n",
      "0              69         True  F01251E5-96A3-448D-981E-0F99D789110D   \n",
      "1              20         True  45E8F437-670D-4409-93CB-F9424A40D6EE   \n",
      "2              21         True  9BBBFB2C-EFBB-4217-9AB7-F97689328841   \n",
      "3              80         True  59747955-87B8-443F-8ED4-F8AD3AFDF3A9   \n",
      "4              22         True  EC84AE09-F9B8-4A15-B4A9-6CCBAB919B08   \n",
      "5              23         True  E39056F1-9CD5-478D-8945-14ACA7FBDCDD   \n",
      "6              50         True  4F46DECA-EF01-41FD-9829-0ADAB368E431   \n",
      "7              51         True  31112635-663B-4018-B4A2-A685C0BF48A4   \n",
      "8              51         True  50B6CDC6-7570-47EF-9570-48A64B5F2ECF   \n",
      "9              64         True  EAA43680-5571-40CB-AB1A-3BF68F04459E   \n",
      "\n",
      "  ModifiedDate  \n",
      "0   2014-06-30  \n",
      "1   2014-06-30  \n",
      "2   2014-06-30  \n",
      "3   2014-06-30  \n",
      "4   2014-06-30  \n",
      "5   2014-06-30  \n",
      "6   2014-06-30  \n",
      "7   2014-06-30  \n",
      "8   2014-06-30  \n",
      "9   2014-06-30  \n"
     ]
    }
   ],
   "source": [
    "print(df.head(10))"
   ]
  },
  {
   "cell_type": "code",
   "execution_count": 61,
   "metadata": {},
   "outputs": [
    {
     "name": "stdout",
     "output_type": "stream",
     "text": [
      "   bID                 n       nat\n",
      "0    1  Document Control  10708100\n",
      "1    2  Document Control  10708100\n",
      "2    3  Document Control  10708100\n",
      "3    4  Document Control  10708100\n",
      "4    4  Document Control  10708100\n",
      "5    5  Document Control  10708100\n",
      "6    6  Document Control  10708100\n",
      "7    7  Document Control  10708100\n",
      "8    8  Document Control  10708100\n",
      "9    9  Document Control  10708100\n"
     ]
    }
   ],
   "source": [
    "sql_query = pd.read_sql_query('''SELECT eh.BusinessEntityID as bID, d.Name as n, e.NationalIDNumber as nat FROM HumanResources.EmployeeDepartmentHistory as eh, HumanResources.Employee as e,HumanResources.Department as d''',connection)\n",
    "print((sql_query).head(10))"
   ]
  },
  {
   "cell_type": "code",
   "execution_count": 75,
   "metadata": {},
   "outputs": [
    {
     "name": "stdout",
     "output_type": "stream",
     "text": [
      "   bID      n       nat\n",
      "0    1  Sales  10708100\n",
      "1    2  Sales  10708100\n",
      "2    3  Sales  10708100\n",
      "3    4  Sales  10708100\n",
      "4    4  Sales  10708100\n",
      "5    5  Sales  10708100\n",
      "6    6  Sales  10708100\n",
      "7    7  Sales  10708100\n",
      "8    8  Sales  10708100\n",
      "9    9  Sales  10708100\n"
     ]
    }
   ],
   "source": [
    "sql_query = pd.read_sql_query('''SELECT eh.BusinessEntityID as bID, d.Name as n, e.NationalIDNumber as nat FROM HumanResources.EmployeeDepartmentHistory as eh, HumanResources.Employee as e,HumanResources.Department as d WHERE d.DepartmentID= 3 ''',connection)\n",
    "print((sql_query).head(10))"
   ]
  },
  {
   "cell_type": "code",
   "execution_count": 76,
   "metadata": {},
   "outputs": [
    {
     "name": "stdout",
     "output_type": "stream",
     "text": [
      "   bID      n        nat\n",
      "0    1  Sales  999440576\n",
      "1    2  Sales  999440576\n",
      "2    3  Sales  999440576\n",
      "3    4  Sales  999440576\n",
      "4    4  Sales  999440576\n",
      "5    5  Sales  999440576\n",
      "6    6  Sales  999440576\n",
      "7    7  Sales  999440576\n",
      "8    8  Sales  999440576\n",
      "9    9  Sales  999440576\n"
     ]
    }
   ],
   "source": [
    "sql_query = pd.read_sql_query('''SELECT eh.BusinessEntityID as bID, d.Name as n, e.NationalIDNumber as nat FROM HumanResources.EmployeeDepartmentHistory as eh, HumanResources.Employee as e,HumanResources.Department as d WHERE d.DepartmentID= 3 and NationalIDNumber>38416288\n",
    "ORDER BY NationalIDNumber desc ''',connection)\n",
    "print((sql_query).head(10))"
   ]
  },
  {
   "cell_type": "code",
   "execution_count": 77,
   "metadata": {},
   "outputs": [],
   "source": [
    "import numpy as np\n",
    "import matplotlib as plt"
   ]
  },
  {
   "cell_type": "code",
   "execution_count": 98,
   "metadata": {},
   "outputs": [
    {
     "name": "stdout",
     "output_type": "stream",
     "text": [
      "      bID          n        nat\n",
      "0      50  Executive   10708100\n",
      "1      50  Executive  109272464\n",
      "2      50  Executive  112432117\n",
      "3      50  Executive  112457891\n",
      "4      50  Executive  113393530\n",
      "...   ...        ...        ...\n",
      "3185   60  Executive  988315686\n",
      "3186   60  Executive  992874797\n",
      "3187   60  Executive  993310268\n",
      "3188   60  Executive  998320692\n",
      "3189   60  Executive  999440576\n",
      "\n",
      "[3190 rows x 3 columns]\n"
     ]
    }
   ],
   "source": [
    "sql_query = pd.read_sql_query('''SELECT eh.BusinessEntityID as bID, d.Name as n, e.NationalIDNumber as nat\n",
    "FROM HumanResources.EmployeeDepartmentHistory as eh, HumanResources.Employee as e,HumanResources.Department as d\n",
    "WHERE eh.BusinessEntityID between 50 and 60 and d.Name= 'Executive' ''',connection)\n",
    "print(sql_query)"
   ]
  },
  {
   "cell_type": "code",
   "execution_count": 120,
   "metadata": {},
   "outputs": [],
   "source": [
    "import matplotlib\n",
    "import numpy as np\n",
    "import matplotlib.pyplot as plt\n",
    "%matplotlib inline"
   ]
  },
  {
   "cell_type": "code",
   "execution_count": 145,
   "metadata": {},
   "outputs": [
    {
     "name": "stdout",
     "output_type": "stream",
     "text": [
      "        bID          n        nat\n",
      "0         1  Executive  295847284\n",
      "1         1  Executive  245797967\n",
      "2         1  Executive  509647174\n",
      "3         1  Executive  112457891\n",
      "4         1  Executive  695256908\n",
      "...     ...        ...        ...\n",
      "112515   92      Sales  758596752\n",
      "112516   92      Sales  982310417\n",
      "112517   92      Sales  954276278\n",
      "112518   92      Sales  668991357\n",
      "112519   92      Sales  134219713\n",
      "\n",
      "[112520 rows x 3 columns]\n"
     ]
    },
    {
     "data": {
      "text/plain": [
       "<matplotlib.axes._subplots.AxesSubplot at 0x221831efd68>"
      ]
     },
     "execution_count": 145,
     "metadata": {},
     "output_type": "execute_result"
    },
    {
     "data": {
      "image/png": "[encoded data removed]",
      "text/plain": [
       "<Figure size 432x288 with 1 Axes>"
      ]
     },
     "metadata": {
      "needs_background": "light"
     },
     "output_type": "display_data"
    }
   ],
   "source": [
    "sql_query = pd.read_sql_query('''SELECT eh.BusinessEntityID as bID, d.Name as n, e.NationalIDNumber as nat\n",
    "FROM HumanResources.EmployeeDepartmentHistory as eh, HumanResources.Employee as e,HumanResources.Department as d\n",
    "WHERE d.Name= 'Executive' or d.Name='Sales' and eh.BusinessEntityID between 10 and 100 ''',connection)\n",
    "print(sql_query)\n",
    "sql_query.plot(x='nat', y='bID')"
   ]
  },
  {
   "cell_type": "code",
   "execution_count": null,
   "metadata": {},
   "outputs": [],
   "source": []
  }
 ],
 "metadata": {
  "kernelspec": {
   "display_name": "Python 3",
   "language": "python",
   "name": "python3"
  },
  "language_info": {
   "codemirror_mode": {
    "name": "ipython",
    "version": 3
   },
   "file_extension": ".py",
   "mimetype": "text/x-python",
   "name": "python",
   "nbconvert_exporter": "python",
   "pygments_lexer": "ipython3",
   "version": "3.6.10"
  }
 },
 "nbformat": 4,
 "nbformat_minor": 4
}
